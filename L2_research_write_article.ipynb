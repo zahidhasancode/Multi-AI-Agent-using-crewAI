{
 "cells": [
  {
   "cell_type": "markdown",
   "metadata": {},
   "source": [
    "You can download the `requirements.txt` for this course from the workspace of this lab. `File --> Open...`"
   ]
  },
  {
   "cell_type": "markdown",
   "metadata": {},
   "source": [
    "# L2: Create Agents to Research and Write an Article\n",
    "\n",
    "In this lesson, you will be introduced to the foundational concepts of multi-agent systems and get an overview of the crewAI framework."
   ]
  },
  {
   "cell_type": "markdown",
   "metadata": {},
   "source": [
    "The libraries are already installed in the classroom. If you're running this notebook on your own machine, you can install the following:\n",
    "```Python\n",
    "!pip install crewai==0.28.8 crewai_tools==0.1.6 langchain_community==0.0.29\n",
    "```"
   ]
  },
  {
   "cell_type": "code",
   "execution_count": 12,
   "metadata": {
    "height": 64
   },
   "outputs": [],
   "source": [
    "# Warning control\n",
    "import warnings\n",
    "warnings.filterwarnings('ignore')"
   ]
  },
  {
   "cell_type": "markdown",
   "metadata": {},
   "source": [
    "- Import from the crewAI libray."
   ]
  },
  {
   "cell_type": "code",
   "execution_count": 13,
   "metadata": {
    "height": 30
   },
   "outputs": [],
   "source": [
    "from crewai import Agent, Task, Crew"
   ]
  },
  {
   "cell_type": "markdown",
   "metadata": {},
   "source": [
    "- As a LLM for your agents, you'll be using OpenAI's `gpt-3.5-turbo`.\n",
    "\n",
    "**Optional Note:** crewAI also allow other popular models to be used as a LLM for your Agents. You can see some of the examples at the [bottom of the notebook](#1)."
   ]
  },
  {
   "cell_type": "code",
   "execution_count": 14,
   "metadata": {
    "height": 98
   },
   "outputs": [],
   "source": [
    "import os\n",
    "from utils import get_openai_api_key\n",
    "\n",
    "openai_api_key = get_openai_api_key()\n",
    "os.environ[\"OPENAI_MODEL_NAME\"] = 'gpt-3.5-turbo'"
   ]
  },
  {
   "cell_type": "markdown",
   "metadata": {},
   "source": [
    "## Creating Agents\n",
    "\n",
    "- Define your Agents, and provide them a `role`, `goal` and `backstory`.\n",
    "- It has been seen that LLMs perform better when they are role playing."
   ]
  },
  {
   "cell_type": "markdown",
   "metadata": {},
   "source": [
    "### Agent: Planner\n",
    "\n",
    "**Note**: The benefit of using _multiple strings_ :\n",
    "```Python\n",
    "varname = \"line 1 of text\"\n",
    "          \"line 2 of text\"\n",
    "```\n",
    "\n",
    "versus the _triple quote docstring_:\n",
    "```Python\n",
    "varname = \"\"\"line 1 of text\n",
    "             line 2 of text\n",
    "          \"\"\"\n",
    "```\n",
    "is that it can avoid adding those whitespaces and newline characters, making it better formatted to be passed to the LLM."
   ]
  },
  {
   "cell_type": "code",
   "execution_count": 15,
   "metadata": {
    "height": 234
   },
   "outputs": [],
   "source": [
    "planner = Agent(\n",
    "    role=\"Content Planner\",\n",
    "    goal=\"Plan engaging and factually accurate content on {topic}\",\n",
    "    backstory=\"You're working on planning a blog article \"\n",
    "              \"about the topic: {topic}.\"\n",
    "              \"You collect information that helps the \"\n",
    "              \"audience learn something \"\n",
    "              \"and make informed decisions. \"\n",
    "              \"Your work is the basis for \"\n",
    "              \"the Content Writer to write an article on this topic.\",\n",
    "    allow_delegation=False,\n",
    "\tverbose=True\n",
    ")"
   ]
  },
  {
   "cell_type": "markdown",
   "metadata": {},
   "source": [
    "### Agent: Writer"
   ]
  },
  {
   "cell_type": "code",
   "execution_count": 16,
   "metadata": {
    "height": 370
   },
   "outputs": [],
   "source": [
    "writer = Agent(\n",
    "    role=\"Content Writer\",\n",
    "    goal=\"Write insightful and factually accurate \"\n",
    "         \"opinion piece about the topic: {topic}\",\n",
    "    backstory=\"You're working on a writing \"\n",
    "              \"a new opinion piece about the topic: {topic}. \"\n",
    "              \"You base your writing on the work of \"\n",
    "              \"the Content Planner, who provides an outline \"\n",
    "              \"and relevant context about the topic. \"\n",
    "              \"You follow the main objectives and \"\n",
    "              \"direction of the outline, \"\n",
    "              \"as provide by the Content Planner. \"\n",
    "              \"You also provide objective and impartial insights \"\n",
    "              \"and back them up with information \"\n",
    "              \"provide by the Content Planner. \"\n",
    "              \"You acknowledge in your opinion piece \"\n",
    "              \"when your statements are opinions \"\n",
    "              \"as opposed to objective statements.\",\n",
    "    allow_delegation=False,\n",
    "    verbose=True\n",
    ")"
   ]
  },
  {
   "cell_type": "markdown",
   "metadata": {},
   "source": [
    "### Agent: Editor"
   ]
  },
  {
   "cell_type": "code",
   "execution_count": 17,
   "metadata": {
    "height": 268
   },
   "outputs": [],
   "source": [
    "editor = Agent(\n",
    "    role=\"Editor\",\n",
    "    goal=\"Edit a given blog post to align with \"\n",
    "         \"the writing style of the organization. \",\n",
    "    backstory=\"You are an editor who receives a blog post \"\n",
    "              \"from the Content Writer. \"\n",
    "              \"Your goal is to review the blog post \"\n",
    "              \"to ensure that it follows journalistic best practices,\"\n",
    "              \"provides balanced viewpoints \"\n",
    "              \"when providing opinions or assertions, \"\n",
    "              \"and also avoids major controversial topics \"\n",
    "              \"or opinions when possible.\",\n",
    "    allow_delegation=False,\n",
    "    verbose=True\n",
    ")"
   ]
  },
  {
   "cell_type": "markdown",
   "metadata": {},
   "source": [
    "## Creating Tasks\n",
    "\n",
    "- Define your Tasks, and provide them a `description`, `expected_output` and `agent`."
   ]
  },
  {
   "cell_type": "markdown",
   "metadata": {},
   "source": [
    "### Task: Plan"
   ]
  },
  {
   "cell_type": "code",
   "execution_count": 18,
   "metadata": {
    "height": 268
   },
   "outputs": [],
   "source": [
    "plan = Task(\n",
    "    description=(\n",
    "        \"1. Prioritize the latest trends, key players, \"\n",
    "            \"and noteworthy news on {topic}.\\n\"\n",
    "        \"2. Identify the target audience, considering \"\n",
    "            \"their interests and pain points.\\n\"\n",
    "        \"3. Develop a detailed content outline including \"\n",
    "            \"an introduction, key points, and a call to action.\\n\"\n",
    "        \"4. Include SEO keywords and relevant data or sources.\"\n",
    "    ),\n",
    "    expected_output=\"A comprehensive content plan document \"\n",
    "        \"with an outline, audience analysis, \"\n",
    "        \"SEO keywords, and resources.\",\n",
    "    agent=planner,\n",
    ")"
   ]
  },
  {
   "cell_type": "markdown",
   "metadata": {},
   "source": [
    "### Task: Write"
   ]
  },
  {
   "cell_type": "code",
   "execution_count": 19,
   "metadata": {
    "height": 319
   },
   "outputs": [],
   "source": [
    "write = Task(\n",
    "    description=(\n",
    "        \"1. Use the content plan to craft a compelling \"\n",
    "            \"blog post on {topic}.\\n\"\n",
    "        \"2. Incorporate SEO keywords naturally.\\n\"\n",
    "\t\t\"3. Sections/Subtitles are properly named \"\n",
    "            \"in an engaging manner.\\n\"\n",
    "        \"4. Ensure the post is structured with an \"\n",
    "            \"engaging introduction, insightful body, \"\n",
    "            \"and a summarizing conclusion.\\n\"\n",
    "        \"5. Proofread for grammatical errors and \"\n",
    "            \"alignment with the brand's voice.\\n\"\n",
    "    ),\n",
    "    expected_output=\"A well-written blog post \"\n",
    "        \"in markdown format, ready for publication, \"\n",
    "        \"each section should have 2 or 3 paragraphs.\",\n",
    "    agent=writer,\n",
    ")"
   ]
  },
  {
   "cell_type": "markdown",
   "metadata": {},
   "source": [
    "### Task: Edit"
   ]
  },
  {
   "cell_type": "code",
   "execution_count": 20,
   "metadata": {
    "height": 166
   },
   "outputs": [],
   "source": [
    "edit = Task(\n",
    "    description=(\"Proofread the given blog post for \"\n",
    "                 \"grammatical errors and \"\n",
    "                 \"alignment with the brand's voice.\"),\n",
    "    expected_output=\"A well-written blog post in markdown format, \"\n",
    "                    \"ready for publication, \"\n",
    "                    \"each section should have 2 or 3 paragraphs.\",\n",
    "    agent=editor\n",
    ")"
   ]
  },
  {
   "cell_type": "markdown",
   "metadata": {},
   "source": [
    "## Creating the Crew\n",
    "\n",
    "- Create your crew of Agents\n",
    "- Pass the tasks to be performed by those agents.\n",
    "    - **Note**: *For this simple example*, the tasks will be performed sequentially (i.e they are dependent on each other), so the _order_ of the task in the list _matters_.\n",
    "- `verbose=2` allows you to see all the logs of the execution. "
   ]
  },
  {
   "cell_type": "code",
   "execution_count": 21,
   "metadata": {
    "height": 98
   },
   "outputs": [
    {
     "name": "stderr",
     "output_type": "stream",
     "text": [
      "2024-10-24 13:19:47,090 - 139765751077760 - __init__.py-__init__:518 - WARNING: Overriding of current TracerProvider is not allowed\n"
     ]
    }
   ],
   "source": [
    "crew = Crew(\n",
    "    agents=[planner, writer, editor],\n",
    "    tasks=[plan, write, edit],\n",
    "    verbose=2\n",
    ")"
   ]
  },
  {
   "cell_type": "markdown",
   "metadata": {},
   "source": [
    "## Running the Crew"
   ]
  },
  {
   "cell_type": "markdown",
   "metadata": {},
   "source": [
    "**Note**: LLMs can provide different outputs for they same input, so what you get might be different than what you see in the video."
   ]
  },
  {
   "cell_type": "code",
   "execution_count": 22,
   "metadata": {
    "height": 30
   },
   "outputs": [
    {
     "name": "stdout",
     "output_type": "stream",
     "text": [
      "\u001b[1m\u001b[95m [DEBUG]: == Working Agent: Content Planner\u001b[00m\n",
      "\u001b[1m\u001b[95m [INFO]: == Starting Task: 1. Prioritize the latest trends, key players, and noteworthy news on Artificial Intelligence.\n",
      "2. Identify the target audience, considering their interests and pain points.\n",
      "3. Develop a detailed content outline including an introduction, key points, and a call to action.\n",
      "4. Include SEO keywords and relevant data or sources.\u001b[00m\n",
      "\n",
      "\n",
      "\u001b[1m> Entering new CrewAgentExecutor chain...\u001b[0m\n",
      "\u001b[32;1m\u001b[1;3mI now can give a great answer\n",
      "\n",
      "Final Answer: \n",
      "\n",
      "Title: The Future of Artificial Intelligence: Trends, Players, and News\n",
      "\n",
      "Introduction:\n",
      "- Brief overview of Artificial Intelligence (AI) and its impact on various industries\n",
      "- Importance of staying updated on the latest trends and key players in the AI space\n",
      "\n",
      "Key Points:\n",
      "1. Latest Trends in Artificial Intelligence\n",
      "- Advancements in machine learning algorithms\n",
      "- Integration of AI in healthcare, finance, transportation, and other sectors\n",
      "- Rise of ethical AI and responsible AI practices\n",
      "\n",
      "2. Key Players in the AI Industry\n",
      "- Leading companies such as Google, Amazon, Microsoft, and IBM investing heavily in AI research and development\n",
      "- Startups making waves in specialized AI applications\n",
      "- Academic institutions contributing to AI innovation\n",
      "\n",
      "3. Noteworthy News in Artificial Intelligence\n",
      "- Recent breakthroughs in natural language processing and computer vision\n",
      "- Regulatory developments impacting AI adoption\n",
      "- Success stories of AI implementations in real-world scenarios\n",
      "\n",
      "Audience Analysis:\n",
      "- Target audience: Professionals in tech, business leaders, students interested in AI\n",
      "- Interests: Keeping up with the latest AI trends, learning about key players shaping the industry, understanding the impact of AI on society\n",
      "- Pain points: Lack of knowledge on emerging AI technologies, uncertainty about the future of AI in their respective fields\n",
      "\n",
      "Content Outline:\n",
      "- Introduction to Artificial Intelligence and its significance\n",
      "- Latest trends in AI and their implications\n",
      "- Key players in the AI industry and their contributions\n",
      "- Noteworthy news in Artificial Intelligence\n",
      "- Conclusion highlighting the importance of staying informed about AI developments\n",
      "- Call to action encouraging readers to explore further resources on AI\n",
      "\n",
      "SEO Keywords:\n",
      "- Artificial Intelligence trends\n",
      "- AI industry players\n",
      "- Latest news in AI\n",
      "- Machine learning advancements\n",
      "- Ethical AI practices\n",
      "\n",
      "Resources:\n",
      "1. \"The State of AI in 2021\" report by McKinsey & Company\n",
      "2. \"AI 50: America's Most Promising Artificial Intelligence Companies\" list by Forbes\n",
      "3. \"Ethical AI Principles\" guidelines by leading tech companies\n",
      "\n",
      "By following this comprehensive content plan, the blog article on Artificial Intelligence will engage the target audience with informative and relevant insights on the latest trends, key players, and noteworthy news in the AI industry.\u001b[0m\n",
      "\n",
      "\u001b[1m> Finished chain.\u001b[0m\n",
      "\u001b[1m\u001b[92m [DEBUG]: == [Content Planner] Task output: Title: The Future of Artificial Intelligence: Trends, Players, and News\n",
      "\n",
      "Introduction:\n",
      "- Brief overview of Artificial Intelligence (AI) and its impact on various industries\n",
      "- Importance of staying updated on the latest trends and key players in the AI space\n",
      "\n",
      "Key Points:\n",
      "1. Latest Trends in Artificial Intelligence\n",
      "- Advancements in machine learning algorithms\n",
      "- Integration of AI in healthcare, finance, transportation, and other sectors\n",
      "- Rise of ethical AI and responsible AI practices\n",
      "\n",
      "2. Key Players in the AI Industry\n",
      "- Leading companies such as Google, Amazon, Microsoft, and IBM investing heavily in AI research and development\n",
      "- Startups making waves in specialized AI applications\n",
      "- Academic institutions contributing to AI innovation\n",
      "\n",
      "3. Noteworthy News in Artificial Intelligence\n",
      "- Recent breakthroughs in natural language processing and computer vision\n",
      "- Regulatory developments impacting AI adoption\n",
      "- Success stories of AI implementations in real-world scenarios\n",
      "\n",
      "Audience Analysis:\n",
      "- Target audience: Professionals in tech, business leaders, students interested in AI\n",
      "- Interests: Keeping up with the latest AI trends, learning about key players shaping the industry, understanding the impact of AI on society\n",
      "- Pain points: Lack of knowledge on emerging AI technologies, uncertainty about the future of AI in their respective fields\n",
      "\n",
      "Content Outline:\n",
      "- Introduction to Artificial Intelligence and its significance\n",
      "- Latest trends in AI and their implications\n",
      "- Key players in the AI industry and their contributions\n",
      "- Noteworthy news in Artificial Intelligence\n",
      "- Conclusion highlighting the importance of staying informed about AI developments\n",
      "- Call to action encouraging readers to explore further resources on AI\n",
      "\n",
      "SEO Keywords:\n",
      "- Artificial Intelligence trends\n",
      "- AI industry players\n",
      "- Latest news in AI\n",
      "- Machine learning advancements\n",
      "- Ethical AI practices\n",
      "\n",
      "Resources:\n",
      "1. \"The State of AI in 2021\" report by McKinsey & Company\n",
      "2. \"AI 50: America's Most Promising Artificial Intelligence Companies\" list by Forbes\n",
      "3. \"Ethical AI Principles\" guidelines by leading tech companies\n",
      "\n",
      "By following this comprehensive content plan, the blog article on Artificial Intelligence will engage the target audience with informative and relevant insights on the latest trends, key players, and noteworthy news in the AI industry.\n",
      "\n",
      "\u001b[00m\n",
      "\u001b[1m\u001b[95m [DEBUG]: == Working Agent: Content Writer\u001b[00m\n",
      "\u001b[1m\u001b[95m [INFO]: == Starting Task: 1. Use the content plan to craft a compelling blog post on Artificial Intelligence.\n",
      "2. Incorporate SEO keywords naturally.\n",
      "3. Sections/Subtitles are properly named in an engaging manner.\n",
      "4. Ensure the post is structured with an engaging introduction, insightful body, and a summarizing conclusion.\n",
      "5. Proofread for grammatical errors and alignment with the brand's voice.\n",
      "\u001b[00m\n",
      "\n",
      "\n",
      "\u001b[1m> Entering new CrewAgentExecutor chain...\u001b[0m\n",
      "\u001b[32;1m\u001b[1;3mI now can give a great answer\n",
      "\n",
      "Final Answer:\n",
      "# The Future of Artificial Intelligence: Trends, Players, and News\n",
      "\n",
      "## Introduction\n",
      "Artificial Intelligence (AI) is revolutionizing various industries with its ability to automate tasks, analyze data, and make decisions without human intervention. As AI continues to evolve, staying informed about the latest trends and key players in the industry is crucial for professionals, business leaders, and students interested in the field.\n",
      "\n",
      "## Latest Trends in Artificial Intelligence\n",
      "Advancements in machine learning algorithms are driving the development of AI applications across sectors such as healthcare, finance, transportation, and more. The integration of AI into these industries is streamlining processes, improving efficiency, and enhancing decision-making. Moreover, the rise of ethical AI and responsible AI practices is gaining momentum, ensuring that AI technologies are developed and deployed ethically and responsibly.\n",
      "\n",
      "## Key Players in the AI Industry\n",
      "Leading companies like Google, Amazon, Microsoft, and IBM are at the forefront of AI research and development, investing heavily in innovative AI solutions. Additionally, startups specializing in AI applications are making significant contributions to the industry by introducing novel technologies and services. Academic institutions are also playing a crucial role in driving AI innovation through research and collaboration with industry partners.\n",
      "\n",
      "## Noteworthy News in Artificial Intelligence\n",
      "Recent breakthroughs in natural language processing and computer vision are expanding the capabilities of AI systems, enabling them to understand and interpret human language and visual information more effectively. Regulatory developments are shaping the landscape of AI adoption, with guidelines and policies being implemented to ensure the ethical and responsible use of AI technologies. Success stories of AI implementations in real-world scenarios are showcasing the tangible benefits of AI in improving processes, enhancing decision-making, and driving innovation.\n",
      "\n",
      "In conclusion, staying informed about the latest trends, key players, and noteworthy news in the AI industry is essential for professionals, business leaders, and students looking to navigate the evolving landscape of AI. By keeping abreast of developments in AI, individuals can better understand the impact of AI on society, explore new opportunities in the field, and contribute to the responsible advancement of AI technologies.\n",
      "\n",
      "**Call to Action:** Explore further resources on AI to deepen your understanding of the industry and stay informed about the latest trends and innovations.\n",
      "\n",
      "By following this comprehensive content plan, the blog article on Artificial Intelligence will engage the target audience with informative and relevant insights on the latest trends, key players, and noteworthy news in the AI industry.\u001b[0m\n",
      "\n",
      "\u001b[1m> Finished chain.\u001b[0m\n",
      "\u001b[1m\u001b[92m [DEBUG]: == [Content Writer] Task output: # The Future of Artificial Intelligence: Trends, Players, and News\n",
      "\n",
      "## Introduction\n",
      "Artificial Intelligence (AI) is revolutionizing various industries with its ability to automate tasks, analyze data, and make decisions without human intervention. As AI continues to evolve, staying informed about the latest trends and key players in the industry is crucial for professionals, business leaders, and students interested in the field.\n",
      "\n",
      "## Latest Trends in Artificial Intelligence\n",
      "Advancements in machine learning algorithms are driving the development of AI applications across sectors such as healthcare, finance, transportation, and more. The integration of AI into these industries is streamlining processes, improving efficiency, and enhancing decision-making. Moreover, the rise of ethical AI and responsible AI practices is gaining momentum, ensuring that AI technologies are developed and deployed ethically and responsibly.\n",
      "\n",
      "## Key Players in the AI Industry\n",
      "Leading companies like Google, Amazon, Microsoft, and IBM are at the forefront of AI research and development, investing heavily in innovative AI solutions. Additionally, startups specializing in AI applications are making significant contributions to the industry by introducing novel technologies and services. Academic institutions are also playing a crucial role in driving AI innovation through research and collaboration with industry partners.\n",
      "\n",
      "## Noteworthy News in Artificial Intelligence\n",
      "Recent breakthroughs in natural language processing and computer vision are expanding the capabilities of AI systems, enabling them to understand and interpret human language and visual information more effectively. Regulatory developments are shaping the landscape of AI adoption, with guidelines and policies being implemented to ensure the ethical and responsible use of AI technologies. Success stories of AI implementations in real-world scenarios are showcasing the tangible benefits of AI in improving processes, enhancing decision-making, and driving innovation.\n",
      "\n",
      "In conclusion, staying informed about the latest trends, key players, and noteworthy news in the AI industry is essential for professionals, business leaders, and students looking to navigate the evolving landscape of AI. By keeping abreast of developments in AI, individuals can better understand the impact of AI on society, explore new opportunities in the field, and contribute to the responsible advancement of AI technologies.\n",
      "\n",
      "**Call to Action:** Explore further resources on AI to deepen your understanding of the industry and stay informed about the latest trends and innovations.\n",
      "\n",
      "By following this comprehensive content plan, the blog article on Artificial Intelligence will engage the target audience with informative and relevant insights on the latest trends, key players, and noteworthy news in the AI industry.\n",
      "\n",
      "\u001b[00m\n",
      "\u001b[1m\u001b[95m [DEBUG]: == Working Agent: Editor\u001b[00m\n",
      "\u001b[1m\u001b[95m [INFO]: == Starting Task: Proofread the given blog post for grammatical errors and alignment with the brand's voice.\u001b[00m\n",
      "\n",
      "\n",
      "\u001b[1m> Entering new CrewAgentExecutor chain...\u001b[0m\n"
     ]
    },
    {
     "name": "stdout",
     "output_type": "stream",
     "text": [
      "\u001b[32;1m\u001b[1;3mI now can give a great answer\n",
      "\n",
      "Final Answer:\n",
      "# The Future of Artificial Intelligence: Trends, Players, and News\n",
      "\n",
      "## Introduction\n",
      "Artificial Intelligence (AI) is revolutionizing various industries with its ability to automate tasks, analyze data, and make decisions without human intervention. As AI continues to evolve, staying informed about the latest trends and key players in the industry is crucial for professionals, business leaders, and students interested in the field. The impact of AI on society is undeniable, and keeping up with the advancements in this field is essential for anyone looking to navigate the ever-changing landscape of technology.\n",
      "\n",
      "## Latest Trends in Artificial Intelligence\n",
      "Advancements in machine learning algorithms are driving the development of AI applications across sectors such as healthcare, finance, transportation, and more. The integration of AI into these industries is streamlining processes, improving efficiency, and enhancing decision-making. Moreover, the rise of ethical AI and responsible AI practices is gaining momentum, ensuring that AI technologies are developed and deployed ethically and responsibly. It is important for individuals to be aware of these trends and developments to understand the potential of AI in shaping the future of various industries.\n",
      "\n",
      "## Key Players in the AI Industry\n",
      "Leading companies like Google, Amazon, Microsoft, and IBM are at the forefront of AI research and development, investing heavily in innovative AI solutions. Additionally, startups specializing in AI applications are making significant contributions to the industry by introducing novel technologies and services. Academic institutions are also playing a crucial role in driving AI innovation through research and collaboration with industry partners. The collaboration between these key players is essential for pushing the boundaries of AI technologies and creating impactful solutions for real-world challenges.\n",
      "\n",
      "## Noteworthy News in Artificial Intelligence\n",
      "Recent breakthroughs in natural language processing and computer vision are expanding the capabilities of AI systems, enabling them to understand and interpret human language and visual information more effectively. Regulatory developments are shaping the landscape of AI adoption, with guidelines and policies being implemented to ensure the ethical and responsible use of AI technologies. Success stories of AI implementations in real-world scenarios are showcasing the tangible benefits of AI in improving processes, enhancing decision-making, and driving innovation. It is important to highlight these achievements to demonstrate the positive impact of AI on various industries and society as a whole.\n",
      "\n",
      "In conclusion, staying informed about the latest trends, key players, and noteworthy news in the AI industry is essential for professionals, business leaders, and students looking to navigate the evolving landscape of AI. By keeping abreast of developments in AI, individuals can better understand the impact of AI on society, explore new opportunities in the field, and contribute to the responsible advancement of AI technologies. The continuous evolution of AI presents exciting possibilities for innovation and growth, and it is crucial to stay informed and engaged in this dynamic field.\n",
      "\n",
      "**Call to Action:** Explore further resources on AI to deepen your understanding of the industry and stay informed about the latest trends and innovations. Let's embrace the future of AI together and shape a better tomorrow through responsible and ethical advancements in technology.\n",
      "\n",
      "By following this comprehensive content plan, the blog article on Artificial Intelligence will engage the target audience with informative and relevant insights on the latest trends, key players, and noteworthy news in the AI industry. Let's continue to explore the endless possibilities of AI and its potential to transform industries and society for the better.\u001b[0m\n",
      "\n",
      "\u001b[1m> Finished chain.\u001b[0m\n",
      "\u001b[1m\u001b[92m [DEBUG]: == [Editor] Task output: # The Future of Artificial Intelligence: Trends, Players, and News\n",
      "\n",
      "## Introduction\n",
      "Artificial Intelligence (AI) is revolutionizing various industries with its ability to automate tasks, analyze data, and make decisions without human intervention. As AI continues to evolve, staying informed about the latest trends and key players in the industry is crucial for professionals, business leaders, and students interested in the field. The impact of AI on society is undeniable, and keeping up with the advancements in this field is essential for anyone looking to navigate the ever-changing landscape of technology.\n",
      "\n",
      "## Latest Trends in Artificial Intelligence\n",
      "Advancements in machine learning algorithms are driving the development of AI applications across sectors such as healthcare, finance, transportation, and more. The integration of AI into these industries is streamlining processes, improving efficiency, and enhancing decision-making. Moreover, the rise of ethical AI and responsible AI practices is gaining momentum, ensuring that AI technologies are developed and deployed ethically and responsibly. It is important for individuals to be aware of these trends and developments to understand the potential of AI in shaping the future of various industries.\n",
      "\n",
      "## Key Players in the AI Industry\n",
      "Leading companies like Google, Amazon, Microsoft, and IBM are at the forefront of AI research and development, investing heavily in innovative AI solutions. Additionally, startups specializing in AI applications are making significant contributions to the industry by introducing novel technologies and services. Academic institutions are also playing a crucial role in driving AI innovation through research and collaboration with industry partners. The collaboration between these key players is essential for pushing the boundaries of AI technologies and creating impactful solutions for real-world challenges.\n",
      "\n",
      "## Noteworthy News in Artificial Intelligence\n",
      "Recent breakthroughs in natural language processing and computer vision are expanding the capabilities of AI systems, enabling them to understand and interpret human language and visual information more effectively. Regulatory developments are shaping the landscape of AI adoption, with guidelines and policies being implemented to ensure the ethical and responsible use of AI technologies. Success stories of AI implementations in real-world scenarios are showcasing the tangible benefits of AI in improving processes, enhancing decision-making, and driving innovation. It is important to highlight these achievements to demonstrate the positive impact of AI on various industries and society as a whole.\n",
      "\n",
      "In conclusion, staying informed about the latest trends, key players, and noteworthy news in the AI industry is essential for professionals, business leaders, and students looking to navigate the evolving landscape of AI. By keeping abreast of developments in AI, individuals can better understand the impact of AI on society, explore new opportunities in the field, and contribute to the responsible advancement of AI technologies. The continuous evolution of AI presents exciting possibilities for innovation and growth, and it is crucial to stay informed and engaged in this dynamic field.\n",
      "\n",
      "**Call to Action:** Explore further resources on AI to deepen your understanding of the industry and stay informed about the latest trends and innovations. Let's embrace the future of AI together and shape a better tomorrow through responsible and ethical advancements in technology.\n",
      "\n",
      "By following this comprehensive content plan, the blog article on Artificial Intelligence will engage the target audience with informative and relevant insights on the latest trends, key players, and noteworthy news in the AI industry. Let's continue to explore the endless possibilities of AI and its potential to transform industries and society for the better.\n",
      "\n",
      "\u001b[00m\n"
     ]
    }
   ],
   "source": [
    "result = crew.kickoff(inputs={\"topic\": \"Artificial Intelligence\"})"
   ]
  },
  {
   "cell_type": "markdown",
   "metadata": {},
   "source": [
    "- Display the results of your execution as markdown in the notebook."
   ]
  },
  {
   "cell_type": "code",
   "execution_count": 23,
   "metadata": {
    "height": 47
   },
   "outputs": [
    {
     "data": {
      "text/markdown": [
       "# The Future of Artificial Intelligence: Trends, Players, and News\n",
       "\n",
       "## Introduction\n",
       "Artificial Intelligence (AI) is revolutionizing various industries with its ability to automate tasks, analyze data, and make decisions without human intervention. As AI continues to evolve, staying informed about the latest trends and key players in the industry is crucial for professionals, business leaders, and students interested in the field. The impact of AI on society is undeniable, and keeping up with the advancements in this field is essential for anyone looking to navigate the ever-changing landscape of technology.\n",
       "\n",
       "## Latest Trends in Artificial Intelligence\n",
       "Advancements in machine learning algorithms are driving the development of AI applications across sectors such as healthcare, finance, transportation, and more. The integration of AI into these industries is streamlining processes, improving efficiency, and enhancing decision-making. Moreover, the rise of ethical AI and responsible AI practices is gaining momentum, ensuring that AI technologies are developed and deployed ethically and responsibly. It is important for individuals to be aware of these trends and developments to understand the potential of AI in shaping the future of various industries.\n",
       "\n",
       "## Key Players in the AI Industry\n",
       "Leading companies like Google, Amazon, Microsoft, and IBM are at the forefront of AI research and development, investing heavily in innovative AI solutions. Additionally, startups specializing in AI applications are making significant contributions to the industry by introducing novel technologies and services. Academic institutions are also playing a crucial role in driving AI innovation through research and collaboration with industry partners. The collaboration between these key players is essential for pushing the boundaries of AI technologies and creating impactful solutions for real-world challenges.\n",
       "\n",
       "## Noteworthy News in Artificial Intelligence\n",
       "Recent breakthroughs in natural language processing and computer vision are expanding the capabilities of AI systems, enabling them to understand and interpret human language and visual information more effectively. Regulatory developments are shaping the landscape of AI adoption, with guidelines and policies being implemented to ensure the ethical and responsible use of AI technologies. Success stories of AI implementations in real-world scenarios are showcasing the tangible benefits of AI in improving processes, enhancing decision-making, and driving innovation. It is important to highlight these achievements to demonstrate the positive impact of AI on various industries and society as a whole.\n",
       "\n",
       "In conclusion, staying informed about the latest trends, key players, and noteworthy news in the AI industry is essential for professionals, business leaders, and students looking to navigate the evolving landscape of AI. By keeping abreast of developments in AI, individuals can better understand the impact of AI on society, explore new opportunities in the field, and contribute to the responsible advancement of AI technologies. The continuous evolution of AI presents exciting possibilities for innovation and growth, and it is crucial to stay informed and engaged in this dynamic field.\n",
       "\n",
       "**Call to Action:** Explore further resources on AI to deepen your understanding of the industry and stay informed about the latest trends and innovations. Let's embrace the future of AI together and shape a better tomorrow through responsible and ethical advancements in technology.\n",
       "\n",
       "By following this comprehensive content plan, the blog article on Artificial Intelligence will engage the target audience with informative and relevant insights on the latest trends, key players, and noteworthy news in the AI industry. Let's continue to explore the endless possibilities of AI and its potential to transform industries and society for the better."
      ],
      "text/plain": [
       "<IPython.core.display.Markdown object>"
      ]
     },
     "execution_count": 23,
     "metadata": {},
     "output_type": "execute_result"
    }
   ],
   "source": [
    "from IPython.display import Markdown\n",
    "Markdown(result)"
   ]
  },
  {
   "cell_type": "markdown",
   "metadata": {},
   "source": [
    "## Try it Yourself\n",
    "\n",
    "- Pass in a topic of your choice and see what the agents come up with!"
   ]
  },
  {
   "cell_type": "code",
   "execution_count": 24,
   "metadata": {
    "height": 47
   },
   "outputs": [
    {
     "name": "stdout",
     "output_type": "stream",
     "text": [
      "\u001b[1m\u001b[95m [DEBUG]: == Working Agent: Content Planner\u001b[00m\n",
      "\u001b[1m\u001b[95m [INFO]: == Starting Task: 1. Prioritize the latest trends, key players, and noteworthy news on YOUR TOPIC HERE.\n",
      "2. Identify the target audience, considering their interests and pain points.\n",
      "3. Develop a detailed content outline including an introduction, key points, and a call to action.\n",
      "4. Include SEO keywords and relevant data or sources.\u001b[00m\n",
      "\n",
      "\n",
      "\u001b[1m> Entering new CrewAgentExecutor chain...\u001b[0m\n",
      "\u001b[32;1m\u001b[1;3mI now can give a great answer\n",
      "\n",
      "Final Answer: \n",
      "\n",
      "Title: The Ultimate Guide to YOUR TOPIC HERE\n",
      "\n",
      "Introduction:\n",
      "- Brief explanation of the importance and relevance of YOUR TOPIC HERE\n",
      "- Mention of the latest trends and key players in the industry\n",
      "\n",
      "Key Points:\n",
      "1. Overview of YOUR TOPIC HERE\n",
      "- Definition and significance\n",
      "- Evolution of YOUR TOPIC HERE over time\n",
      "- Current challenges and opportunities\n",
      "\n",
      "2. Latest Trends in YOUR TOPIC HERE\n",
      "- Analysis of the most recent developments in the industry\n",
      "- Implications for businesses and consumers\n",
      "- Predictions for future trends\n",
      "\n",
      "3. Key Players in YOUR TOPIC HERE\n",
      "- Profiles of the leading companies or individuals in the field\n",
      "- Their contributions and impact on the industry\n",
      "- Opportunities for collaboration or competition\n",
      "\n",
      "4. Noteworthy News in YOUR TOPIC HERE\n",
      "- Summary of recent news articles or studies related to YOUR TOPIC HERE\n",
      "- Analysis of the implications for stakeholders\n",
      "- Recommendations for further reading or research\n",
      "\n",
      "Audience Analysis:\n",
      "- Target audience: professionals in the industry, students studying YOUR TOPIC HERE, and general consumers interested in learning more\n",
      "- Interests: staying informed about the latest trends, understanding the key players in the industry, and accessing reliable news and resources\n",
      "- Pain points: lack of access to up-to-date information, confusion about complex concepts in YOUR TOPIC HERE, and difficulty in finding trustworthy sources\n",
      "\n",
      "Call to Action:\n",
      "- Encourage readers to engage with the content by sharing their thoughts or questions in the comments\n",
      "- Provide links to related articles, resources, or events for further exploration\n",
      "- Invite readers to subscribe to the blog for future updates on YOUR TOPIC HERE\n",
      "\n",
      "SEO Keywords:\n",
      "- YOUR TOPIC HERE trends\n",
      "- Key players in YOUR TOPIC HERE\n",
      "- Latest news on YOUR TOPIC HERE\n",
      "- YOUR TOPIC HERE industry analysis\n",
      "- Understanding YOUR TOPIC HERE\n",
      "\n",
      "Resources:\n",
      "1. Industry reports and studies on YOUR TOPIC HERE\n",
      "2. Interviews with experts in the field\n",
      "3. News articles from reputable sources\n",
      "4. Academic journals and research papers on YOUR TOPIC HERE\n",
      "5. Relevant websites and blogs for additional information\n",
      "\n",
      "By following this comprehensive content plan, the blog article on YOUR TOPIC HERE will provide valuable insights and information to the target audience, helping them make informed decisions and stay up-to-date on the latest trends in the industry.\u001b[0m\n",
      "\n",
      "\u001b[1m> Finished chain.\u001b[0m\n",
      "\u001b[1m\u001b[92m [DEBUG]: == [Content Planner] Task output: Title: The Ultimate Guide to YOUR TOPIC HERE\n",
      "\n",
      "Introduction:\n",
      "- Brief explanation of the importance and relevance of YOUR TOPIC HERE\n",
      "- Mention of the latest trends and key players in the industry\n",
      "\n",
      "Key Points:\n",
      "1. Overview of YOUR TOPIC HERE\n",
      "- Definition and significance\n",
      "- Evolution of YOUR TOPIC HERE over time\n",
      "- Current challenges and opportunities\n",
      "\n",
      "2. Latest Trends in YOUR TOPIC HERE\n",
      "- Analysis of the most recent developments in the industry\n",
      "- Implications for businesses and consumers\n",
      "- Predictions for future trends\n",
      "\n",
      "3. Key Players in YOUR TOPIC HERE\n",
      "- Profiles of the leading companies or individuals in the field\n",
      "- Their contributions and impact on the industry\n",
      "- Opportunities for collaboration or competition\n",
      "\n",
      "4. Noteworthy News in YOUR TOPIC HERE\n",
      "- Summary of recent news articles or studies related to YOUR TOPIC HERE\n",
      "- Analysis of the implications for stakeholders\n",
      "- Recommendations for further reading or research\n",
      "\n",
      "Audience Analysis:\n",
      "- Target audience: professionals in the industry, students studying YOUR TOPIC HERE, and general consumers interested in learning more\n",
      "- Interests: staying informed about the latest trends, understanding the key players in the industry, and accessing reliable news and resources\n",
      "- Pain points: lack of access to up-to-date information, confusion about complex concepts in YOUR TOPIC HERE, and difficulty in finding trustworthy sources\n",
      "\n",
      "Call to Action:\n",
      "- Encourage readers to engage with the content by sharing their thoughts or questions in the comments\n",
      "- Provide links to related articles, resources, or events for further exploration\n",
      "- Invite readers to subscribe to the blog for future updates on YOUR TOPIC HERE\n",
      "\n",
      "SEO Keywords:\n",
      "- YOUR TOPIC HERE trends\n",
      "- Key players in YOUR TOPIC HERE\n",
      "- Latest news on YOUR TOPIC HERE\n",
      "- YOUR TOPIC HERE industry analysis\n",
      "- Understanding YOUR TOPIC HERE\n",
      "\n",
      "Resources:\n",
      "1. Industry reports and studies on YOUR TOPIC HERE\n",
      "2. Interviews with experts in the field\n",
      "3. News articles from reputable sources\n",
      "4. Academic journals and research papers on YOUR TOPIC HERE\n",
      "5. Relevant websites and blogs for additional information\n",
      "\n",
      "By following this comprehensive content plan, the blog article on YOUR TOPIC HERE will provide valuable insights and information to the target audience, helping them make informed decisions and stay up-to-date on the latest trends in the industry.\n",
      "\n",
      "\u001b[00m\n",
      "\u001b[1m\u001b[95m [DEBUG]: == Working Agent: Content Writer\u001b[00m\n",
      "\u001b[1m\u001b[95m [INFO]: == Starting Task: 1. Use the content plan to craft a compelling blog post on YOUR TOPIC HERE.\n",
      "2. Incorporate SEO keywords naturally.\n",
      "3. Sections/Subtitles are properly named in an engaging manner.\n",
      "4. Ensure the post is structured with an engaging introduction, insightful body, and a summarizing conclusion.\n",
      "5. Proofread for grammatical errors and alignment with the brand's voice.\n",
      "\u001b[00m\n",
      "\n",
      "\n",
      "\u001b[1m> Entering new CrewAgentExecutor chain...\u001b[0m\n",
      "\u001b[32;1m\u001b[1;3mI now can give a great answer\n",
      "\n",
      "Final Answer:\n",
      "\n",
      "# The Ultimate Guide to YOUR TOPIC HERE\n",
      "\n",
      "## Introduction\n",
      "\n",
      "In today's fast-paced world, understanding YOUR TOPIC HERE is more crucial than ever. As technology continues to advance and shape our daily lives, keeping up with the latest trends and key players in the industry is essential. Whether you're a professional looking to stay ahead of the curve, a student eager to learn about the field, or a curious consumer seeking reliable information, this ultimate guide will provide you with valuable insights and knowledge.\n",
      "\n",
      "## Overview of YOUR TOPIC HERE\n",
      "\n",
      "YOUR TOPIC HERE is defined as [definition]. Its significance lies in [significance]. Over time, YOUR TOPIC HERE has evolved [evolution]. However, with evolution comes challenges and opportunities. Currently, the industry faces [current challenges], but also presents [current opportunities] for growth and innovation.\n",
      "\n",
      "## Latest Trends in YOUR TOPIC HERE\n",
      "\n",
      "The latest trends in YOUR TOPIC HERE have been nothing short of groundbreaking. With [recent developments], businesses and consumers alike are experiencing [implications]. Looking towards the future, it is predicted that [future trends] will shape the industry in new and exciting ways.\n",
      "\n",
      "## Key Players in YOUR TOPIC HERE\n",
      "\n",
      "Leading the pack in YOUR TOPIC HERE are companies and individuals who have made significant contributions to the field. Their impact on the industry can be seen through [contributions], and their presence offers both opportunities for collaboration and competition. By understanding the key players in YOUR TOPIC HERE, one can gain valuable insights into the industry as a whole.\n",
      "\n",
      "## Noteworthy News in YOUR TOPIC HERE\n",
      "\n",
      "Recent news articles and studies related to YOUR TOPIC HERE have shed light on [summary of recent news]. The implications of these findings for stakeholders are [implications], and further reading and research are recommended for those looking to delve deeper into the topic.\n",
      "\n",
      "## Audience Analysis\n",
      "\n",
      "Professionals, students, and general consumers interested in YOUR TOPIC HERE all share a common goal: to stay informed and access reliable resources. By addressing their interests and pain points, this guide aims to provide valuable information and insights for all audiences.\n",
      "\n",
      "## Call to Action\n",
      "\n",
      "Engage with the content by sharing your thoughts and questions in the comments section below. Explore related articles, resources, and events for further learning. Subscribe to the blog for future updates on YOUR TOPIC HERE.\n",
      "\n",
      "By following this comprehensive guide, readers will gain a deeper understanding of YOUR TOPIC HERE and stay informed on the latest trends and developments in the industry.\u001b[0m\n",
      "\n",
      "\u001b[1m> Finished chain.\u001b[0m\n",
      "\u001b[1m\u001b[92m [DEBUG]: == [Content Writer] Task output: # The Ultimate Guide to YOUR TOPIC HERE\n",
      "\n",
      "## Introduction\n",
      "\n",
      "In today's fast-paced world, understanding YOUR TOPIC HERE is more crucial than ever. As technology continues to advance and shape our daily lives, keeping up with the latest trends and key players in the industry is essential. Whether you're a professional looking to stay ahead of the curve, a student eager to learn about the field, or a curious consumer seeking reliable information, this ultimate guide will provide you with valuable insights and knowledge.\n",
      "\n",
      "## Overview of YOUR TOPIC HERE\n",
      "\n",
      "YOUR TOPIC HERE is defined as [definition]. Its significance lies in [significance]. Over time, YOUR TOPIC HERE has evolved [evolution]. However, with evolution comes challenges and opportunities. Currently, the industry faces [current challenges], but also presents [current opportunities] for growth and innovation.\n",
      "\n",
      "## Latest Trends in YOUR TOPIC HERE\n",
      "\n",
      "The latest trends in YOUR TOPIC HERE have been nothing short of groundbreaking. With [recent developments], businesses and consumers alike are experiencing [implications]. Looking towards the future, it is predicted that [future trends] will shape the industry in new and exciting ways.\n",
      "\n",
      "## Key Players in YOUR TOPIC HERE\n",
      "\n",
      "Leading the pack in YOUR TOPIC HERE are companies and individuals who have made significant contributions to the field. Their impact on the industry can be seen through [contributions], and their presence offers both opportunities for collaboration and competition. By understanding the key players in YOUR TOPIC HERE, one can gain valuable insights into the industry as a whole.\n",
      "\n",
      "## Noteworthy News in YOUR TOPIC HERE\n",
      "\n",
      "Recent news articles and studies related to YOUR TOPIC HERE have shed light on [summary of recent news]. The implications of these findings for stakeholders are [implications], and further reading and research are recommended for those looking to delve deeper into the topic.\n",
      "\n",
      "## Audience Analysis\n",
      "\n",
      "Professionals, students, and general consumers interested in YOUR TOPIC HERE all share a common goal: to stay informed and access reliable resources. By addressing their interests and pain points, this guide aims to provide valuable information and insights for all audiences.\n",
      "\n",
      "## Call to Action\n",
      "\n",
      "Engage with the content by sharing your thoughts and questions in the comments section below. Explore related articles, resources, and events for further learning. Subscribe to the blog for future updates on YOUR TOPIC HERE.\n",
      "\n",
      "By following this comprehensive guide, readers will gain a deeper understanding of YOUR TOPIC HERE and stay informed on the latest trends and developments in the industry.\n",
      "\n",
      "\u001b[00m\n",
      "\u001b[1m\u001b[95m [DEBUG]: == Working Agent: Editor\u001b[00m\n",
      "\u001b[1m\u001b[95m [INFO]: == Starting Task: Proofread the given blog post for grammatical errors and alignment with the brand's voice.\u001b[00m\n",
      "\n",
      "\n",
      "\u001b[1m> Entering new CrewAgentExecutor chain...\u001b[0m\n"
     ]
    },
    {
     "name": "stdout",
     "output_type": "stream",
     "text": [
      "\u001b[32;1m\u001b[1;3mI now can give a great answer.\n",
      "\n",
      "Final Answer:\n",
      "\n",
      "# The Ultimate Guide to Artificial Intelligence\n",
      "\n",
      "## Introduction\n",
      "\n",
      "In today's fast-paced world, understanding Artificial Intelligence (AI) is more crucial than ever. As technology continues to advance and shape our daily lives, keeping up with the latest trends and key players in the industry is essential. Whether you're a professional looking to stay ahead of the curve, a student eager to learn about the field, or a curious consumer seeking reliable information, this ultimate guide will provide you with valuable insights and knowledge.\n",
      "\n",
      "## Overview of Artificial Intelligence\n",
      "\n",
      "Artificial Intelligence is defined as the simulation of human intelligence processes by machines, especially computer systems. Its significance lies in its ability to perform tasks that typically require human intelligence, such as visual perception, speech recognition, decision-making, and language translation. Over time, AI has evolved from simple rule-based systems to complex neural networks and deep learning algorithms. However, with evolution comes challenges and opportunities. Currently, the industry faces ethical concerns regarding AI's impact on privacy and job displacement, but also presents opportunities for growth and innovation in various sectors such as healthcare, finance, and transportation.\n",
      "\n",
      "## Latest Trends in Artificial Intelligence\n",
      "\n",
      "The latest trends in Artificial Intelligence have been nothing short of groundbreaking. With advancements in natural language processing, computer vision, and reinforcement learning, businesses and consumers alike are experiencing AI-powered products and services that were once considered science fiction. Looking towards the future, it is predicted that AI will continue to revolutionize industries by enabling predictive analytics, personalized recommendations, and autonomous systems that can enhance efficiency and decision-making processes.\n",
      "\n",
      "## Key Players in Artificial Intelligence\n",
      "\n",
      "Leading the pack in Artificial Intelligence are companies and individuals who have made significant contributions to the field. Their impact on the industry can be seen through groundbreaking research, innovative products, and strategic partnerships. Companies like Google, Microsoft, and Tesla, along with researchers such as Yoshua Bengio and Fei-Fei Li, have shaped the landscape of AI and continue to push boundaries in machine learning and robotics. By understanding the key players in Artificial Intelligence, one can gain valuable insights into the industry as a whole and explore potential opportunities for collaboration and competition.\n",
      "\n",
      "## Noteworthy News in Artificial Intelligence\n",
      "\n",
      "Recent news articles and studies related to Artificial Intelligence have shed light on the potential applications of AI in healthcare, the ethical implications of autonomous vehicles, and the rise of AI assistants in daily life. The implications of these findings for stakeholders are vast, ranging from improved patient care and safety to concerns about data privacy and algorithmic bias. Further reading and research are recommended for those looking to delve deeper into the complex and evolving field of Artificial Intelligence.\n",
      "\n",
      "## Audience Analysis\n",
      "\n",
      "Professionals, students, and general consumers interested in Artificial Intelligence all share a common goal: to stay informed and access reliable resources. By addressing their interests and pain points, this guide aims to provide valuable information and insights for all audiences. Whether you're a data scientist looking to expand your knowledge, a student exploring career opportunities in AI, or a curious individual interested in the future of technology, this guide offers a comprehensive overview of Artificial Intelligence.\n",
      "\n",
      "## Call to Action\n",
      "\n",
      "Engage with the content by sharing your thoughts and questions in the comments section below. Explore related articles, resources, and events for further learning. Subscribe to the blog for future updates on Artificial Intelligence. By following this comprehensive guide, readers will gain a deeper understanding of AI and stay informed on the latest trends and developments in the industry.\u001b[0m\n",
      "\n",
      "\u001b[1m> Finished chain.\u001b[0m\n",
      "\u001b[1m\u001b[92m [DEBUG]: == [Editor] Task output: # The Ultimate Guide to Artificial Intelligence\n",
      "\n",
      "## Introduction\n",
      "\n",
      "In today's fast-paced world, understanding Artificial Intelligence (AI) is more crucial than ever. As technology continues to advance and shape our daily lives, keeping up with the latest trends and key players in the industry is essential. Whether you're a professional looking to stay ahead of the curve, a student eager to learn about the field, or a curious consumer seeking reliable information, this ultimate guide will provide you with valuable insights and knowledge.\n",
      "\n",
      "## Overview of Artificial Intelligence\n",
      "\n",
      "Artificial Intelligence is defined as the simulation of human intelligence processes by machines, especially computer systems. Its significance lies in its ability to perform tasks that typically require human intelligence, such as visual perception, speech recognition, decision-making, and language translation. Over time, AI has evolved from simple rule-based systems to complex neural networks and deep learning algorithms. However, with evolution comes challenges and opportunities. Currently, the industry faces ethical concerns regarding AI's impact on privacy and job displacement, but also presents opportunities for growth and innovation in various sectors such as healthcare, finance, and transportation.\n",
      "\n",
      "## Latest Trends in Artificial Intelligence\n",
      "\n",
      "The latest trends in Artificial Intelligence have been nothing short of groundbreaking. With advancements in natural language processing, computer vision, and reinforcement learning, businesses and consumers alike are experiencing AI-powered products and services that were once considered science fiction. Looking towards the future, it is predicted that AI will continue to revolutionize industries by enabling predictive analytics, personalized recommendations, and autonomous systems that can enhance efficiency and decision-making processes.\n",
      "\n",
      "## Key Players in Artificial Intelligence\n",
      "\n",
      "Leading the pack in Artificial Intelligence are companies and individuals who have made significant contributions to the field. Their impact on the industry can be seen through groundbreaking research, innovative products, and strategic partnerships. Companies like Google, Microsoft, and Tesla, along with researchers such as Yoshua Bengio and Fei-Fei Li, have shaped the landscape of AI and continue to push boundaries in machine learning and robotics. By understanding the key players in Artificial Intelligence, one can gain valuable insights into the industry as a whole and explore potential opportunities for collaboration and competition.\n",
      "\n",
      "## Noteworthy News in Artificial Intelligence\n",
      "\n",
      "Recent news articles and studies related to Artificial Intelligence have shed light on the potential applications of AI in healthcare, the ethical implications of autonomous vehicles, and the rise of AI assistants in daily life. The implications of these findings for stakeholders are vast, ranging from improved patient care and safety to concerns about data privacy and algorithmic bias. Further reading and research are recommended for those looking to delve deeper into the complex and evolving field of Artificial Intelligence.\n",
      "\n",
      "## Audience Analysis\n",
      "\n",
      "Professionals, students, and general consumers interested in Artificial Intelligence all share a common goal: to stay informed and access reliable resources. By addressing their interests and pain points, this guide aims to provide valuable information and insights for all audiences. Whether you're a data scientist looking to expand your knowledge, a student exploring career opportunities in AI, or a curious individual interested in the future of technology, this guide offers a comprehensive overview of Artificial Intelligence.\n",
      "\n",
      "## Call to Action\n",
      "\n",
      "Engage with the content by sharing your thoughts and questions in the comments section below. Explore related articles, resources, and events for further learning. Subscribe to the blog for future updates on Artificial Intelligence. By following this comprehensive guide, readers will gain a deeper understanding of AI and stay informed on the latest trends and developments in the industry.\n",
      "\n",
      "\u001b[00m\n"
     ]
    }
   ],
   "source": [
    "topic = \"YOUR TOPIC HERE\"\n",
    "result = crew.kickoff(inputs={\"topic\": topic})"
   ]
  },
  {
   "cell_type": "code",
   "execution_count": 25,
   "metadata": {
    "height": 30
   },
   "outputs": [
    {
     "data": {
      "text/markdown": [
       "# The Ultimate Guide to Artificial Intelligence\n",
       "\n",
       "## Introduction\n",
       "\n",
       "In today's fast-paced world, understanding Artificial Intelligence (AI) is more crucial than ever. As technology continues to advance and shape our daily lives, keeping up with the latest trends and key players in the industry is essential. Whether you're a professional looking to stay ahead of the curve, a student eager to learn about the field, or a curious consumer seeking reliable information, this ultimate guide will provide you with valuable insights and knowledge.\n",
       "\n",
       "## Overview of Artificial Intelligence\n",
       "\n",
       "Artificial Intelligence is defined as the simulation of human intelligence processes by machines, especially computer systems. Its significance lies in its ability to perform tasks that typically require human intelligence, such as visual perception, speech recognition, decision-making, and language translation. Over time, AI has evolved from simple rule-based systems to complex neural networks and deep learning algorithms. However, with evolution comes challenges and opportunities. Currently, the industry faces ethical concerns regarding AI's impact on privacy and job displacement, but also presents opportunities for growth and innovation in various sectors such as healthcare, finance, and transportation.\n",
       "\n",
       "## Latest Trends in Artificial Intelligence\n",
       "\n",
       "The latest trends in Artificial Intelligence have been nothing short of groundbreaking. With advancements in natural language processing, computer vision, and reinforcement learning, businesses and consumers alike are experiencing AI-powered products and services that were once considered science fiction. Looking towards the future, it is predicted that AI will continue to revolutionize industries by enabling predictive analytics, personalized recommendations, and autonomous systems that can enhance efficiency and decision-making processes.\n",
       "\n",
       "## Key Players in Artificial Intelligence\n",
       "\n",
       "Leading the pack in Artificial Intelligence are companies and individuals who have made significant contributions to the field. Their impact on the industry can be seen through groundbreaking research, innovative products, and strategic partnerships. Companies like Google, Microsoft, and Tesla, along with researchers such as Yoshua Bengio and Fei-Fei Li, have shaped the landscape of AI and continue to push boundaries in machine learning and robotics. By understanding the key players in Artificial Intelligence, one can gain valuable insights into the industry as a whole and explore potential opportunities for collaboration and competition.\n",
       "\n",
       "## Noteworthy News in Artificial Intelligence\n",
       "\n",
       "Recent news articles and studies related to Artificial Intelligence have shed light on the potential applications of AI in healthcare, the ethical implications of autonomous vehicles, and the rise of AI assistants in daily life. The implications of these findings for stakeholders are vast, ranging from improved patient care and safety to concerns about data privacy and algorithmic bias. Further reading and research are recommended for those looking to delve deeper into the complex and evolving field of Artificial Intelligence.\n",
       "\n",
       "## Audience Analysis\n",
       "\n",
       "Professionals, students, and general consumers interested in Artificial Intelligence all share a common goal: to stay informed and access reliable resources. By addressing their interests and pain points, this guide aims to provide valuable information and insights for all audiences. Whether you're a data scientist looking to expand your knowledge, a student exploring career opportunities in AI, or a curious individual interested in the future of technology, this guide offers a comprehensive overview of Artificial Intelligence.\n",
       "\n",
       "## Call to Action\n",
       "\n",
       "Engage with the content by sharing your thoughts and questions in the comments section below. Explore related articles, resources, and events for further learning. Subscribe to the blog for future updates on Artificial Intelligence. By following this comprehensive guide, readers will gain a deeper understanding of AI and stay informed on the latest trends and developments in the industry."
      ],
      "text/plain": [
       "<IPython.core.display.Markdown object>"
      ]
     },
     "execution_count": 25,
     "metadata": {},
     "output_type": "execute_result"
    }
   ],
   "source": [
    "Markdown(result)"
   ]
  },
  {
   "cell_type": "markdown",
   "metadata": {},
   "source": [
    "<a name='1'></a>\n",
    " ## Other Popular Models as LLM for your Agents"
   ]
  },
  {
   "cell_type": "markdown",
   "metadata": {},
   "source": [
    "#### Hugging Face (HuggingFaceHub endpoint)\n",
    "\n",
    "```Python\n",
    "from langchain_community.llms import HuggingFaceHub\n",
    "\n",
    "llm = HuggingFaceHub(\n",
    "    repo_id=\"HuggingFaceH4/zephyr-7b-beta\",\n",
    "    huggingfacehub_api_token=\"<HF_TOKEN_HERE>\",\n",
    "    task=\"text-generation\",\n",
    ")\n",
    "\n",
    "### you will pass \"llm\" to your agent function\n",
    "```"
   ]
  },
  {
   "cell_type": "markdown",
   "metadata": {},
   "source": [
    "#### Mistral API\n",
    "\n",
    "```Python\n",
    "OPENAI_API_KEY=your-mistral-api-key\n",
    "OPENAI_API_BASE=https://api.mistral.ai/v1\n",
    "OPENAI_MODEL_NAME=\"mistral-small\"\n",
    "```"
   ]
  },
  {
   "cell_type": "markdown",
   "metadata": {},
   "source": [
    "#### Cohere\n",
    "\n",
    "```Python\n",
    "from langchain_community.chat_models import ChatCohere\n",
    "# Initialize language model\n",
    "os.environ[\"COHERE_API_KEY\"] = \"your-cohere-api-key\"\n",
    "llm = ChatCohere()\n",
    "\n",
    "### you will pass \"llm\" to your agent function\n",
    "```"
   ]
  },
  {
   "cell_type": "markdown",
   "metadata": {},
   "source": [
    "### For using Llama locally with Ollama and more, checkout the crewAI documentation on [Connecting to any LLM](https://docs.crewai.com/how-to/LLM-Connections/)."
   ]
  },
  {
   "cell_type": "code",
   "execution_count": null,
   "metadata": {
    "height": 30
   },
   "outputs": [],
   "source": []
  },
  {
   "cell_type": "code",
   "execution_count": null,
   "metadata": {
    "height": 30
   },
   "outputs": [],
   "source": []
  },
  {
   "cell_type": "code",
   "execution_count": null,
   "metadata": {
    "height": 30
   },
   "outputs": [],
   "source": []
  }
 ],
 "metadata": {
  "colab": {
   "gpuType": "T4",
   "provenance": []
  },
  "kernelspec": {
   "display_name": "Python 3 (ipykernel)",
   "language": "python",
   "name": "python3"
  },
  "language_info": {
   "codemirror_mode": {
    "name": "ipython",
    "version": 3
   },
   "file_extension": ".py",
   "mimetype": "text/x-python",
   "name": "python",
   "nbconvert_exporter": "python",
   "pygments_lexer": "ipython3",
   "version": "3.11.9"
  }
 },
 "nbformat": 4,
 "nbformat_minor": 4
}
